{
 "cells": [
  {
   "cell_type": "markdown",
   "metadata": {
    "collapsed": false,
    "pycharm": {
     "name": "#%% md\n"
    }
   },
   "source": [
    "# Lab 2\n",
    "## OCdt OCdt Liethan Velasco, OCdt Aaron Brown\n",
    "Submitted 05 Oct 23\n",
    "\n",
    "## Discussion\n",
    "For the design of this lab, the overarching design choice was having the server do most of the work in the sending-receiving command dynamic between it and the client. This is especially highlighted by having the client send the user’s raw input commands to the server, and having the latter conduct all the “bad input” verification, command decoding, and finally notifying the user of whether their command was acknowledged or not. The only thing the client essentially executes is the sending of user input, and reacting to the server’s response accordingly, ie. executing its side of a command (sending/receiving a file), or notifying the user of a bad input error the server found.\n",
    "\n",
    "The rationale behind this server-client design was that the heavy lifting between the server and client should be conducted by the machine that can be expected to be more powerful in terms of hardware resources, in addition “centralizing” the work done in a one-server-multiple-user setting. The client may or may not always have the adequate hardware resources to conduct verification or decoding in a timely manner. Rather, let the user simply execute what it has to do, and have the server do most of the work. \n",
    "\n",
    "A specific detail in the design behind the command execution of get and put requests involves the verification of the existence of the requested files. In short, in a get command, the server checks if the requested file exists, and it notifies the client and sends the file if it does. If not, the server notifies the server about the missing file. The opposite applies in a put request: when the server acknowledges a put request, the client checks if the specified file exists in its database. If so, it notifies the server and sends the file. Otherwise, it would notify the server accordingly. The purpose of this design choice is evident: should these cases not be handled, the interpreter would attempt to access a non-existent file and throw an error. The program mitigates this by checking beforehand before a non-existent file is opened. \n",
    "\n",
    "## Testing\n",
    "- Get,server_test_01.txt\n",
    "    - Received file in client receive file\n",
    "- Get,server_test_02.txt\n",
    "    - Received file in client receive file\n",
    "- Get,hdh\n",
    "    - Message was printed on the client console “CLIENT SIDE ERROR: Requested file does not exist in server database. Verify and try again.”\n",
    "- Get,server_test_01.txt,server_test_02.txt\n",
    "    - Message was printed on the client console “CLIENT SIDE ERROR: Last command had too many arguments. Follow format <command,file_name>.”\n",
    "- Get\n",
    "  - Message was printed on the client console “CLIENT SIDE ERROR: Last command was sent without a file. Ensure to include one.”\n",
    "- Put,client_test_01.txt\n",
    "    - Received file in server receive file\n",
    "- Put,client_test_02.txt\n",
    "  - Received file in server receive file\n",
    "- Put,hddh\n",
    "  - Message was printed on the client console “CLIENT SIDE ERROR: File to send does not exist in client database. Verify file name.”\n",
    "- Put,server_test_01.txt,server_test_02.txt\n",
    "    - Message was printed on the client console “CLIENT SIDE ERROR: Last command had too many arguments. Follow format <command,file_name>.”\n",
    "- Put\n",
    "    - Message was printed on the client console “CLIENT SIDE ERROR: Last command was sent without a file. Ensure to include one.”\n",
    "- Jdj\n",
    "    - Message was printed on the client console “CLIENT SIDE ERROR: Last command sent unrecognized by server. Choose either <get> or <put>.”\n",
    "- Quit\n",
    "    - Message was printed on the client console “CLIENT STATUS: Server acknowledged quit request. Terminating client execution…” program exits.\n",
    "- Started client before server \n",
    "    - Timed out"
   ]
  }
 ],
 "metadata": {
  "kernelspec": {
   "display_name": "Python 3",
   "language": "python",
   "name": "python3"
  },
  "language_info": {
   "codemirror_mode": {
    "name": "ipython",
    "version": 2
   },
   "file_extension": ".py",
   "mimetype": "text/x-python",
   "name": "python",
   "nbconvert_exporter": "python",
   "pygments_lexer": "ipython2",
   "version": "2.7.6"
  }
 },
 "nbformat": 4,
 "nbformat_minor": 0
}
