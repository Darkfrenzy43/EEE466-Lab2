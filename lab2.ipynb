{
 "cells": [
  {
   "cell_type": "markdown",
   "metadata": {
    "collapsed": false,
    "pycharm": {
     "name": "#%% md\n"
    }
   },
   "source": [
    "# Lab 2 - FTP Over TCP\n",
    "In this lab you will take the knowledge you learned during the previous lab about setting up and using TCP sockets in order to build a simple file transfer system that uses the Request-Reply protocol. You have been provided with a program structure for implementing your distributed system.\n",
    "\n",
    "## 2.1 - Primer\n",
    "In labs 2, 4, and 5, you will create different communication interfaces inheriting from the CommunicationInterface class. In this lab you will also need to implement an FTClient and FTServer. The intent is for a future-compatible design in which your FTClient and FTServer can be used interchangably with different communication interfaces using the same command and file transfer logic.\n",
    "\n",
    "In this lab the FTClient and FTServer import the TCPFileTransfer class as the communication interface:\n",
    "```\n",
    "from EEE466Baseline.TCPFileTransfer import TCPFileTransfer as CommunicationInterface\n",
    "```\n",
    "In lab 4, this line looks like:\n",
    "```\n",
    "from EEE466Baseline.TCPFileTransfer import RUDPFileTransfer as CommunicationInterface\n",
    "```\n",
    "\n",
    "### CommunicationInterface\n",
    "The client and server will communicate using a class which overrides the methods defined in the CommunicationInterface class (this is the TCPFileTransfer class for lab 2). This class provides a set of methods the client and server can call to perform a set of tasks (an API!). How these tasks are completed are abstracted away from the client and server through this *interface*.\n",
    "\n",
    "The CommunicationInterface class contains stub functions to be overridden in the TCPFileTransfer class. As an example to illustrate this point, consider the terminalInterface class used for printing to the console shown below. The terminalInterface class has a function called printWithTimestamp. The commandLineWriter class inherits from the terminalInterface class in the mainProgram function. Here are good, better and incorrect examples:"
   ]
  },
  {
   "cell_type": "code",
   "execution_count": 1,
   "metadata": {
    "ExecuteTime": {
     "end_time": "2023-09-22T17:59:26.427474900Z",
     "start_time": "2023-09-22T17:59:26.407429800Z"
    }
   },
   "outputs": [],
   "source": [
    "#Good example - it maintains the interface for mainProgram to access commandLineWriter\n",
    "\n",
    "import time\n",
    "\n",
    "class terminalInterface(object):\n",
    "\n",
    "    def printWithTimestamp(self, valueToPrint):\n",
    "        print(\"TODO implement this function\")\n",
    "\n",
    "# commandLineWriter inherits terminalInterface and overrides printWithTimestamp\n",
    "class commandLineWriter(terminalInterface):\n",
    "    def printWithTimestamp(self, valueToPrint):\n",
    "        print(time.ctime()+\" \"+str(valueToPrint))\n",
    "\n",
    "class mainProgram(object):\n",
    "    _printer = commandLineWriter()\n",
    "    def run(self):\n",
    "        self._printer.printWithTimestamp(\"program started\")"
   ]
  },
  {
   "cell_type": "code",
   "execution_count": 2,
   "metadata": {
    "collapsed": false,
    "pycharm": {
     "name": "#%%\n"
    },
    "ExecuteTime": {
     "end_time": "2023-09-22T17:59:30.845999100Z",
     "start_time": "2023-09-22T17:59:30.826004100Z"
    }
   },
   "outputs": [
    {
     "name": "stdout",
     "output_type": "stream",
     "text": [
      "Fri Sep 22 13:59:30 2023 program started\n",
      "Fri Sep 22 13:59:30 2023 program started\n"
     ]
    }
   ],
   "source": [
    "mainProgram().run()\n",
    "commandLineWriter().printWithTimestamp(\"program started\")"
   ]
  },
  {
   "cell_type": "code",
   "execution_count": 8,
   "metadata": {
    "collapsed": false,
    "pycharm": {
     "name": "#%%\n"
    },
    "ExecuteTime": {
     "end_time": "2023-09-22T18:06:14.615401100Z",
     "start_time": "2023-09-22T18:06:14.605515900Z"
    }
   },
   "outputs": [],
   "source": [
    "#Better example - it maintains the interface for mainProgram to access commandLineWriter\n",
    "#but it also uses terminalInterface to make it easier to make new alternatives to\n",
    "#commandLineWriter by moving the shared requirement to get the time into the terminalInterface class.\n",
    "\n",
    "import time\n",
    "\n",
    "class terminalInterface(object):\n",
    "    def printWithTimestamp(self, valueToPrint):\n",
    "        self.printBoth(time.ctime(), valueToPrint)\n",
    "    def printBoth(self, firstValToPrint, secondValToPrint):\n",
    "        print ('TODO implement this function')\n",
    "\n",
    "class commandLineWriter(terminalInterface):\n",
    "    def printBoth(self, firstValToPrint, secondValToPrint):\n",
    "        print(str(firstValToPrint)+\" \"+str(secondValToPrint))\n",
    "\n",
    "# Velasco added this one\n",
    "class commandLineWriterV2(terminalInterface):\n",
    "\n",
    "    def printBoth(self, firstValToPrint, secondValToPrint):\n",
    "\n",
    "        print(\"In 2.0, reverse values: \" + str(secondValToPrint) + \" \" + str(firstValToPrint));\n",
    "\n",
    "class mainProgram(object):\n",
    "    _printer = commandLineWriter()\n",
    "    def run(self):\n",
    "        self._printer.printWithTimestamp(\"program started\") # <-- allows for polymorphism when you change the object in _printer\n",
    "\n",
    "        self._printer = commandLineWriterV2()\n",
    "        self._printer.printWithTimestamp(\"Program started again.\")"
   ]
  },
  {
   "cell_type": "code",
   "execution_count": 9,
   "metadata": {
    "collapsed": false,
    "pycharm": {
     "name": "#%%\n"
    },
    "ExecuteTime": {
     "end_time": "2023-09-22T18:06:16.298398300Z",
     "start_time": "2023-09-22T18:06:16.278404100Z"
    }
   },
   "outputs": [
    {
     "name": "stdout",
     "output_type": "stream",
     "text": [
      "Fri Sep 22 14:06:16 2023 program started\n",
      "In 2.0, reverse values: Program started again. Fri Sep 22 14:06:16 2023\n"
     ]
    }
   ],
   "source": [
    "mainProgram().run()\n",
    "# commandLineWriter().printWithTimestamp(\"program started\")"
   ]
  },
  {
   "cell_type": "code",
   "execution_count": 10,
   "metadata": {
    "collapsed": false,
    "pycharm": {
     "name": "#%%\n"
    },
    "ExecuteTime": {
     "end_time": "2023-09-22T18:06:42.168287500Z",
     "start_time": "2023-09-22T18:06:42.148294100Z"
    }
   },
   "outputs": [],
   "source": [
    "#Bad example because it breaks the interface between mainProgram and commandLineWriter\n",
    "#this example will run in this particular case, but if someone else writes code to use a terminalInterface\n",
    "#and they write commandLineWriter().printWithTimestamp(\"program started\"), the console will print \"#TODO implement this\".\n",
    "\n",
    "import time\n",
    "\n",
    "class terminalInterface(object):\n",
    "    def printWithTimestamp(self, valueToPrint):\n",
    "        print(\"TODO implement this\")\n",
    "\n",
    "class commandLineWriter(terminalInterface):\n",
    "    def printBoth(self, firstValToPrint, secondValToPrint):\n",
    "        print(str(firstValToPrint)+\" \"+str(secondValToPrint))\n",
    "\n",
    "    def getTime(self):\n",
    "        return time.ctime()\n",
    "\n",
    "class mainProgram(object):\n",
    "    _printer = commandLineWriter()\n",
    "    def run(self):\n",
    "        self._printer.printBoth(self._printer.getTime(),\"program started\")"
   ]
  },
  {
   "cell_type": "code",
   "execution_count": 11,
   "metadata": {
    "collapsed": false,
    "pycharm": {
     "name": "#%%\n"
    },
    "ExecuteTime": {
     "end_time": "2023-09-22T18:06:45.338940800Z",
     "start_time": "2023-09-22T18:06:45.318895300Z"
    }
   },
   "outputs": [
    {
     "name": "stdout",
     "output_type": "stream",
     "text": [
      "Fri Sep 22 14:06:45 2023 program started\n",
      "TODO implement this\n"
     ]
    }
   ],
   "source": [
    "mainProgram().run()\n",
    "commandLineWriter().printWithTimestamp(\"program started\")"
   ]
  },
  {
   "cell_type": "markdown",
   "metadata": {},
   "source": [
    "Note: see [link](http://blog.thedigitalcatonline.com/blog/2014/05/19/method-overriding-in-python/) for a discussion of method overriding in python. Done correctly you can write classes to work with CommunicationInterface and then override specific methods only to alter the manner in which those classes communicate.\n",
    "\n",
    "### Implementation\n",
    "\n",
    "The design of this lab is critical to success in later labs. If your design is well conceived, you may reuse a significant amount of code for lab 4 and lab 5. The crux of this problem is preparation. There are two primary challenges to consider:\n",
    "1. What data will be sent. Format and size commands and files will look like to the server and the client. Both entities should share a data representations so that they can correctly parse received messages.\n",
    "2. What logic should be in the client/server endpoints and what should be contained within the TCP interface.\n",
    "\n",
    "It is *strongly* encouraged that you begin this lab by writing or sketching out what actions each class will be responsible for before beginning your implementation. You may also want to ask your instructor for feedback on your design. As long as the socket logic is limited to the interface you will meet the design requirements. However, the intent is to have a generic client and server that allow for transmission of files without getting specific on how messages are passed. This will mean easy integration with the interfaces introduced in future labs.\n",
    "\n",
    "Note: You may consider altering the code in the CommunicationInterface/TCPFileTransfer classes (e.g., adding helper methods) as long as the predefined methods are used for interaction with the FTServer and FTClient. This is not required to successfully complete the labs.\n",
    "\n",
    "## 2.2 - Requirements\n",
    "Here are the design requirements for implementing your client, server, and, TCP interface. The classes are provided for you along with example files to test file transfer. \n",
    "\n",
    "### FTClient\n",
    "- The FTClient will start up and present an input prompt to the user through which the user will be able to type commands and submit them by pressing enter;\n",
    "- The FTClient module will not import from the socket package, all communications code will be encapsulated in the TCPFileTransfer module in the EEE466Baseline package;\n",
    "- The FTClient will return to an input prompt after processing a command, unless it shuts down as a result of an error or a QUIT command;\n",
    "- The FTClient must be capable of processing the following commands:\n",
    "    1. `get,filename` - Example: `get,test.txt` - When this command is received, the FTClient will request the file specified from the server. If it is available in the server's Send folder, the server will send it to the client which will store it in the Client's Receive folder;\n",
    "       - If the client requests a file that doesn't exist, the server will return an error indicating the file doesn't exist and the client will notify the user;\n",
    "       - If the client has an existing file in its Receive folder with the same name as the requested file, the existing file will be overwritten by the newly downloaded version;\n",
    "    2. `put,filename` - Examples: `put,test.txt`` - When this command is received, the FTClient will check its Send folder for the filename. If it exists, it will send an appropriate put command to the server followed by the file itself;\n",
    "       - If the user specifies a file that does not exist, the client will notify the user;\n",
    "    3. `quit` - When this command is received the client will send a message to the server to instruct it to shut down, wait for the server to acknowledge the message, and then exit;\n",
    "- The client and server should be able to transfer multiple files in a single session (you should be able to put or get multiple files before closing the connection);\n",
    "\n",
    "### FTServer\n",
    "- The FTServer will start up, bind to a port, and listen for incoming connections;\n",
    "- The FTServer module will not import from the socket package, all communications code will be encapsulated in the TCPFileTransfer module in the EEE466Baseline package;\n",
    "- The FTServer will only accept one client connection at a time;\n",
    "- When the FTServer accepts a connection, it will respond to the following commands from the FTClient:\n",
    "    - `get,filename` - Example: `get,test.txt` - When the FTServer receives a get command it will look for the specified file in its Send folder, if the file does not exist it will return an error indicating the requested file doesn't exist, if the file exists it will be transmitted to the client;\n",
    "    - `put,filename` - Example: `put,test.txt` - When the server receives a put command it will prepare to receive the specified file and then save the received file in its Receive folder, if there is already a file there with the same name it will be overwritten;\n",
    "- When the FTServer receives a `quit` message, it will properly shut down;\n",
    "\n",
    "### TCPFileTransfer\n",
    "The TCPFileTransfer class inherits from the communication CommunicationInterface class and must be used to implement interface objects for this lab.\n",
    "- The TCPFIleTransfer class inherits from the CommunicationInterface class;\n",
    "- The TCPFileTransfer class may import from the socket package;\n",
    "- The TCPFileTransfer class will never use a hard coded buffer size of 1. This is for two reasons:\n",
    "    1. When a buffer size of 1 is used, it negates having to learn how to deal with streams of data which is an important part of using TCP;\n",
    "    2. Every call to send or recv requires a context switch to the Operating System, which in computer terms is very expensive. High performance system programmers go to great lengths to make as few of these calls as possible (without making other inappropriate engineering decisions like using way too much RAM). A buffer size of 1 is inappropriate for a system of any size even if a system uses fixed length 1 byte messages.\n",
    "- Due to significant (imaginary) hardware constraints, the client and server can only buffer 1024 bytes. Therefore, sends and receives performed by the interface must not exceed this size. Files can be much larger than this, and must be split into multiple sends/receives from the communication channel.\n",
    "\n",
    "Note: The client and server contain example functions that may guide you in your design. These functions and their parameters are completely optional.\n",
    "\n",
    "# 2.3 - Testing\n",
    "An important aspect of distributed system development is to properly test your implementation. Testing and debugging distributed applications can be quite a bit more difficult than testing a single application. This is partly due to the fact that you are now debugging two programs simultaneously, but also because the only means of communicating between these programs is to send messages. If your program doesn't work as expected, it may be worthwhile to use Wireshark or tcpdump to view the messages that are (or aren't) being sent between your client and server. \n",
    "\n",
    "You will be marked on the ability of your system to handle erroneous inputs, such as:\n",
    "- Invalid command, extra blank spaces or commas\n",
    "- File requested doesn't exist (put or get)\n",
    "\n",
    "It is recommended that you create a test set for proper functionality and edge cases and include them in your code. By default, your code should run as a command line prompt so any test cases should be commented or provided as a prompt options.\n",
    "\n",
    "The text files you transfer should be of different sizes, and be able to transmit in either direction. Explain your testing in your submitted code, and include any test files as needed. Reminder: you don't *need* to include testing information in your submission but if your code fails, clearly documented testing can provide partial marks.\n",
    "\n",
    "# 2.5 - Submission\n",
    "Your objective for this lab is to implement the following files using the requirements listed in part 2.2:\n",
    "1. FTClient.py\n",
    "2. FTServer.py\n",
    "3. TCPFileTransfer.py\n",
    "\n",
    "All files included in this lab (i.e., your project) are to be submitted in a zip file (see lab_report_template.ipynb for instructions). Use the lab report template to reference the files that you modified and provide instructions/clarification as required."
   ]
  }
 ],
 "metadata": {
  "kernelspec": {
   "display_name": "Python 3",
   "language": "python",
   "name": "python3"
  },
  "language_info": {
   "codemirror_mode": {
    "name": "ipython",
    "version": 3
   },
   "file_extension": ".py",
   "mimetype": "text/x-python",
   "name": "python",
   "nbconvert_exporter": "python",
   "pygments_lexer": "ipython3",
   "version": "3.11.5"
  }
 },
 "nbformat": 4,
 "nbformat_minor": 0
}
